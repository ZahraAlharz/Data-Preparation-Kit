{
  "nbformat": 4,
  "nbformat_minor": 0,
  "metadata": {
    "colab": {
      "provenance": [],
      "authorship_tag": "ABX9TyOzCz8MMKdCL3yFPgzTbLHo",
      "include_colab_link": true
    },
    "kernelspec": {
      "name": "python3",
      "display_name": "Python 3"
    },
    "language_info": {
      "name": "python"
    }
  },
  "cells": [
    {
      "cell_type": "markdown",
      "metadata": {
        "id": "view-in-github",
        "colab_type": "text"
      },
      "source": [
        "<a href=\"https://colab.research.google.com/github/ZahraAlharz/Data-Preparation-Kit/blob/main/DataPrepKit.ipynb\" target=\"_parent\"><img src=\"https://colab.research.google.com/assets/colab-badge.svg\" alt=\"Open In Colab\"/></a>"
      ]
    },
    {
      "cell_type": "code",
      "execution_count": null,
      "metadata": {
        "id": "yIvWVR85RgPT"
      },
      "outputs": [],
      "source": [
        "import pandas as pd\n",
        "import numpy as np\n",
        "import statistics"
      ]
    },
    {
      "cell_type": "code",
      "source": [
        "#Implement functions that can read data from different file formats such as CSV, Excel, and JSON\n",
        "def readDataFunction():\n",
        " try:\n",
        "  df=pd.read_csv('')\n",
        " except FileNotFoundError:\n",
        "      try:\n",
        "        df = pd.read_excel('')\n",
        "      except FileNotFoundError:\n",
        "            try:\n",
        "              pd.read_json('')\n",
        "            except:\n",
        "              print('file format not found')"
      ],
      "metadata": {
        "id": "Gp6XFrE9VWhs"
      },
      "execution_count": null,
      "outputs": []
    },
    {
      "cell_type": "code",
      "source": [
        "#Develop functions to print key statistical summaries of the data, including metrics like the average and most frequent values\n",
        "def statSummaryFunction():\n",
        "  print(\"first 5 rows of dataframe: \")\n",
        "  print(df.head())\n",
        "  print(\"\\nMean: \")\n",
        "  print(df.mean())\n",
        "  print(\"\\nMedian: \")\n",
        "  print(df.median())\n",
        "  print(\"\\nMode: \")\n",
        "  print(df.mode())\n",
        "  print(\"\\nfull summary statistics: \")\n",
        "  print(df.describe())\n"
      ],
      "metadata": {
        "id": "ug_M35cqVWqR"
      },
      "execution_count": null,
      "outputs": []
    },
    {
      "cell_type": "code",
      "source": [
        "#Create functions for addressing missing values, offering solutions to either remove or impute them based on set strategies\n",
        "#This works for both categorical and quantitive\n",
        "\n",
        "def missingValueFunction():\n",
        "   # Print the number of missing values in each column\n",
        "   print(df.isnull().sum())\n",
        "  # Remove columns with null values that don't exceed 3 rows\n",
        "  for column in df.columns:\n",
        "    if df[column].isnull().sum() <=3:\n",
        "      df = df.dropna(subset=[columns])\n",
        "\n",
        "\n",
        "    # Impute missing values with the mean for columns with more than 3 null values\n",
        "    for column in df.columns:\n",
        "      if df[column].isnull().sum() > 3:\n",
        "        df[column].fillna(df[column].mean(), inplace=True)\n",
        "\n",
        "     categorical_columns = df.select_dtypes(include=['object']).columns\n",
        "     for column in categorical_columns:\n",
        "      modeValue = df[column].mode()[0]\n",
        "      df[column].fillna(modeValue, inplace=True)\n",
        "\n",
        "\n",
        "    return df"
      ],
      "metadata": {
        "id": "UfdelS4WVWyZ"
      },
      "execution_count": null,
      "outputs": []
    },
    {
      "cell_type": "code",
      "source": [
        "#Design functions for encoding categorical data, allowing their conversion into numerical formats for analysis\n",
        "def CategoricalConversionFunction():\n",
        "  cate_cols = df.select_dtypes(['object']).columns\n",
        "  df[cate_cols] = df[cate_cols].apply(lambda x: pd.factorize(x)[0])\n",
        "  return df"
      ],
      "metadata": {
        "id": "7_SM620VVW8M"
      },
      "execution_count": null,
      "outputs": []
    }
  ]
}